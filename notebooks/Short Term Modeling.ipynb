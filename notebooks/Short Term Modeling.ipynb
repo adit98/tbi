{
 "cells": [
  {
   "cell_type": "code",
   "execution_count": 208,
   "metadata": {},
   "outputs": [],
   "source": [
    "import pandas as pd\n",
    "import numpy as np\n",
    "from matplotlib.ticker import PercentFormatter\n",
    "import matplotlib.pyplot as plt\n",
    "from sklearn.preprocessing import StandardScaler\n",
    "from sklearn.decomposition import PCA\n",
    "from sklearn.model_selection import train_test_split\n",
    "from sklearn.linear_model import SGDClassifier\n",
    "from sklearn.utils import compute_class_weight, resample\n",
    "from sklearn.metrics import confusion_matrix\n",
    "from seaborn import heatmap\n",
    "from tqdm import tqdm_notebook as tqdm\n",
    "import scipy\n",
    "%matplotlib inline"
   ]
  },
  {
   "cell_type": "markdown",
   "metadata": {},
   "source": [
    "## Load Patient Data"
   ]
  },
  {
   "cell_type": "code",
   "execution_count": 184,
   "metadata": {},
   "outputs": [],
   "source": [
    "hr_all = pd.read_csv(\"../data/alpaca_hr.csv\")\n",
    "resp_all = pd.read_csv(\"../data/alpaca_resp.csv\")\n",
    "sao2_all = pd.read_csv(\"../data/alpaca_sao2.csv\")\n",
    "gcs_all = pd.read_csv(\"../data/patient_motor.csv\")\n",
    "\n",
    "hr_all['offset'] /= 60\n",
    "resp_all['offset'] /= 60\n",
    "sao2_all['offset'] /= 60\n",
    "gcs_all['observationoffset'] /= 60\n",
    "\n",
    "# calculate length of stay in hrs for each patient (use hr df as patient reference)\n",
    "max_stays = hr_all.groupby('patientunitstayid').apply(lambda x: x['offset'].max()).values\n",
    "max_stays = max_stays[max_stays < 720]"
   ]
  },
  {
   "cell_type": "markdown",
   "metadata": {},
   "source": [
    "#### Bin Data"
   ]
  },
  {
   "cell_type": "code",
   "execution_count": 185,
   "metadata": {},
   "outputs": [],
   "source": [
    "# set interval in hrs\n",
    "binning_interval = 1"
   ]
  },
  {
   "cell_type": "code",
   "execution_count": 186,
   "metadata": {},
   "outputs": [
    {
     "data": {
      "text/html": [
       "<div>\n",
       "<style scoped>\n",
       "    .dataframe tbody tr th:only-of-type {\n",
       "        vertical-align: middle;\n",
       "    }\n",
       "\n",
       "    .dataframe tbody tr th {\n",
       "        vertical-align: top;\n",
       "    }\n",
       "\n",
       "    .dataframe thead th {\n",
       "        text-align: right;\n",
       "    }\n",
       "</style>\n",
       "<table border=\"1\" class=\"dataframe\">\n",
       "  <thead>\n",
       "    <tr style=\"text-align: right;\">\n",
       "      <th></th>\n",
       "      <th>patientunitstayid</th>\n",
       "      <th>offset_bin</th>\n",
       "      <th>hr</th>\n",
       "      <th>resp</th>\n",
       "      <th>sao2</th>\n",
       "      <th>gcs</th>\n",
       "      <th>gcs_label</th>\n",
       "    </tr>\n",
       "  </thead>\n",
       "  <tbody>\n",
       "    <tr>\n",
       "      <th>0</th>\n",
       "      <td>242714</td>\n",
       "      <td>0.0</td>\n",
       "      <td>102.181818</td>\n",
       "      <td>37.875000</td>\n",
       "      <td>94.545455</td>\n",
       "      <td>6.0</td>\n",
       "      <td>6.0</td>\n",
       "    </tr>\n",
       "    <tr>\n",
       "      <th>1</th>\n",
       "      <td>242714</td>\n",
       "      <td>1.0</td>\n",
       "      <td>105.583333</td>\n",
       "      <td>37.875000</td>\n",
       "      <td>93.916667</td>\n",
       "      <td>6.0</td>\n",
       "      <td>6.0</td>\n",
       "    </tr>\n",
       "    <tr>\n",
       "      <th>2</th>\n",
       "      <td>242714</td>\n",
       "      <td>2.0</td>\n",
       "      <td>102.166667</td>\n",
       "      <td>37.875000</td>\n",
       "      <td>94.083333</td>\n",
       "      <td>6.0</td>\n",
       "      <td>6.0</td>\n",
       "    </tr>\n",
       "    <tr>\n",
       "      <th>3</th>\n",
       "      <td>242714</td>\n",
       "      <td>3.0</td>\n",
       "      <td>100.000000</td>\n",
       "      <td>37.875000</td>\n",
       "      <td>94.583333</td>\n",
       "      <td>6.0</td>\n",
       "      <td>6.0</td>\n",
       "    </tr>\n",
       "    <tr>\n",
       "      <th>4</th>\n",
       "      <td>242714</td>\n",
       "      <td>4.0</td>\n",
       "      <td>101.166667</td>\n",
       "      <td>37.875000</td>\n",
       "      <td>93.583333</td>\n",
       "      <td>6.0</td>\n",
       "      <td>6.0</td>\n",
       "    </tr>\n",
       "    <tr>\n",
       "      <th>...</th>\n",
       "      <td>...</td>\n",
       "      <td>...</td>\n",
       "      <td>...</td>\n",
       "      <td>...</td>\n",
       "      <td>...</td>\n",
       "      <td>...</td>\n",
       "      <td>...</td>\n",
       "    </tr>\n",
       "    <tr>\n",
       "      <th>210768</th>\n",
       "      <td>3352819</td>\n",
       "      <td>13.0</td>\n",
       "      <td>81.416667</td>\n",
       "      <td>31.000000</td>\n",
       "      <td>98.750000</td>\n",
       "      <td>6.0</td>\n",
       "      <td>6.0</td>\n",
       "    </tr>\n",
       "    <tr>\n",
       "      <th>210769</th>\n",
       "      <td>3352819</td>\n",
       "      <td>14.0</td>\n",
       "      <td>81.666667</td>\n",
       "      <td>30.916667</td>\n",
       "      <td>97.616667</td>\n",
       "      <td>6.0</td>\n",
       "      <td>6.0</td>\n",
       "    </tr>\n",
       "    <tr>\n",
       "      <th>210770</th>\n",
       "      <td>3352819</td>\n",
       "      <td>15.0</td>\n",
       "      <td>86.333333</td>\n",
       "      <td>27.583333</td>\n",
       "      <td>97.175000</td>\n",
       "      <td>6.0</td>\n",
       "      <td>6.0</td>\n",
       "    </tr>\n",
       "    <tr>\n",
       "      <th>210771</th>\n",
       "      <td>3352819</td>\n",
       "      <td>16.0</td>\n",
       "      <td>80.166667</td>\n",
       "      <td>30.916667</td>\n",
       "      <td>97.833333</td>\n",
       "      <td>6.0</td>\n",
       "      <td>6.0</td>\n",
       "    </tr>\n",
       "    <tr>\n",
       "      <th>210772</th>\n",
       "      <td>3352819</td>\n",
       "      <td>17.0</td>\n",
       "      <td>78.500000</td>\n",
       "      <td>27.750000</td>\n",
       "      <td>95.666667</td>\n",
       "      <td>6.0</td>\n",
       "      <td>6.0</td>\n",
       "    </tr>\n",
       "  </tbody>\n",
       "</table>\n",
       "<p>210773 rows × 7 columns</p>\n",
       "</div>"
      ],
      "text/plain": [
       "        patientunitstayid  offset_bin          hr       resp       sao2  gcs  \\\n",
       "0                  242714         0.0  102.181818  37.875000  94.545455  6.0   \n",
       "1                  242714         1.0  105.583333  37.875000  93.916667  6.0   \n",
       "2                  242714         2.0  102.166667  37.875000  94.083333  6.0   \n",
       "3                  242714         3.0  100.000000  37.875000  94.583333  6.0   \n",
       "4                  242714         4.0  101.166667  37.875000  93.583333  6.0   \n",
       "...                   ...         ...         ...        ...        ...  ...   \n",
       "210768            3352819        13.0   81.416667  31.000000  98.750000  6.0   \n",
       "210769            3352819        14.0   81.666667  30.916667  97.616667  6.0   \n",
       "210770            3352819        15.0   86.333333  27.583333  97.175000  6.0   \n",
       "210771            3352819        16.0   80.166667  30.916667  97.833333  6.0   \n",
       "210772            3352819        17.0   78.500000  27.750000  95.666667  6.0   \n",
       "\n",
       "        gcs_label  \n",
       "0             6.0  \n",
       "1             6.0  \n",
       "2             6.0  \n",
       "3             6.0  \n",
       "4             6.0  \n",
       "...           ...  \n",
       "210768        6.0  \n",
       "210769        6.0  \n",
       "210770        6.0  \n",
       "210771        6.0  \n",
       "210772        6.0  \n",
       "\n",
       "[210773 rows x 7 columns]"
      ]
     },
     "metadata": {},
     "output_type": "display_data"
    },
    {
     "name": "stdout",
     "output_type": "stream",
     "text": [
      "Number of Patients: 2064\n"
     ]
    }
   ],
   "source": [
    "# assign bins\n",
    "hr_all['offset_bin'] = hr_all['offset'] // binning_interval\n",
    "resp_all['offset_bin'] = resp_all['offset'] // binning_interval\n",
    "sao2_all['offset_bin'] = sao2_all['offset'] // binning_interval\n",
    "gcs_all['offset_bin'] = gcs_all['observationoffset'] // binning_interval\n",
    "\n",
    "# calculate bin mean for each patient\n",
    "hr_binned = hr_all.drop(columns='offset').groupby(['patientunitstayid', 'offset_bin']).mean().reset_index()\n",
    "resp_binned = resp_all.drop(columns='offset').groupby(['patientunitstayid', 'offset_bin']).mean().reset_index()\n",
    "sao2_binned = sao2_all.drop(columns='offset').groupby(['patientunitstayid', 'offset_bin']).mean().reset_index()\n",
    "gcs_x = gcs_all.drop(columns='observationoffset').groupby(['patientunitstayid', 'offset_bin']).mean().reset_index()\n",
    "\n",
    "# aggregate latest gcs score as the label\n",
    "gcs_y = gcs_all.groupby(['patientunitstayid', 'offset_bin']).agg(lambda x: x.iloc[-1]).reset_index().rename(columns={'Value': 'gcs_label'})[['patientunitstayid', 'offset_bin', 'gcs_label']]\n",
    "\n",
    "# merge the x and y gcs dataframes into gcs_binned\n",
    "gcs_binned = gcs_x.merge(gcs_y, how='left')\n",
    "\n",
    "# calculate the maximum number of bins (for reindexing)\n",
    "max_bins = max_stays.max() // binning_interval + 1\n",
    "\n",
    "# reindex helper method\n",
    "def rein(df):\n",
    "    return df.set_index('offset_bin').reindex(np.arange(max_bins))\n",
    "\n",
    "# reindex hr df, use this as merging table for other values\n",
    "hr_binned = hr_binned.groupby('patientunitstayid').apply(rein).drop(columns='patientunitstayid').reset_index()\n",
    "\n",
    "# format column names to allow merging\n",
    "hr_binned.rename(columns={'value' : 'hr'}, inplace=True)\n",
    "resp_binned.rename(columns={'value' : 'resp'}, inplace=True)\n",
    "sao2_binned.rename(columns={'value' : 'sao2'}, inplace=True)\n",
    "gcs_binned.rename(columns={'Value' : 'gcs'}, inplace=True)\n",
    "\n",
    "# merge data\n",
    "ts_binned = hr_binned.merge(resp_binned, how='left').merge(sao2_binned, how='left').merge(gcs_binned, how='left')\n",
    "ts_binned = ts_binned.groupby('patientunitstayid').apply(lambda x: x.fillna(method='bfill')).dropna()\n",
    "\n",
    "# require patients to have data for at least 12 hrs\n",
    "patient_data_lens = pd.DataFrame(ts_binned.groupby('patientunitstayid').agg('max')['offset_bin']).reset_index()\n",
    "patient_data_lens = patient_data_lens[patient_data_lens['offset_bin'] >= 12][['patientunitstayid']]\n",
    "\n",
    "# merge patient list into ts_binned\n",
    "ts_binned = patient_data_lens.merge(ts_binned)\n",
    "\n",
    "# display data\n",
    "display(ts_binned)\n",
    "\n",
    "print('Number of Patients:', len(ts_binned.groupby('patientunitstayid').agg('max')['offset_bin']))"
   ]
  },
  {
   "cell_type": "markdown",
   "metadata": {},
   "source": [
    "#### Format data, create X and y for training"
   ]
  },
  {
   "cell_type": "code",
   "execution_count": 187,
   "metadata": {},
   "outputs": [],
   "source": [
    "# set prediction window, memory window\n",
    "prediction_window = 6\n",
    "memory_window = 12"
   ]
  },
  {
   "cell_type": "code",
   "execution_count": 230,
   "metadata": {},
   "outputs": [],
   "source": [
    "# split train/test\n",
    "train_patients, test_patients = train_test_split(patients[['patientunitstayid']], test_size=0.2)\n",
    "ts_binned_train = train_patients.merge(ts_binned)\n",
    "ts_binned_test = test_patients.merge(ts_binned)\n",
    "\n",
    "# separate patient data into array of samples - train\n",
    "grouped_data_train = [g.drop(columns=['patientunitstayid', 'offset_bin']).values for _, g in ts_binned_train.groupby('patientunitstayid')]\n",
    "\n",
    "train_X = []\n",
    "train_y = []\n",
    "for arr in grouped_data_train:\n",
    "    for i in range(0, arr.shape[0] - prediction_window - memory_window + 1):\n",
    "        train_X.append(arr[i:i + memory_window, :-1].flatten('F'))\n",
    "        train_y.append(arr[i + memory_window + prediction_window - 1, -1])\n",
    "\n",
    "train_X = np.vstack(train_X)\n",
    "train_y = np.vstack(train_y).flatten()\n",
    "\n",
    "# separate patient data into array of samples - test\n",
    "grouped_data_test = [g.drop(columns=['patientunitstayid', 'offset_bin']).values for _, g in ts_binned_test.groupby('patientunitstayid')]\n",
    "    \n",
    "test_X = []\n",
    "test_y = []\n",
    "for arr in grouped_data_test:\n",
    "    for i in range(0, arr.shape[0] - prediction_window - memory_window + 1):\n",
    "        test_X.append(arr[i:i + memory_window, :-1].flatten('F'))\n",
    "        test_y.append(arr[i + memory_window + prediction_window - 1, -1])\n",
    "\n",
    "test_X = np.vstack(test_X)\n",
    "test_y = np.vstack(test_y).flatten()\n",
    "\n",
    "# resample to achieve class balance (oversample underrepresented classes)\n",
    "# so that we don't oversample excessively, get the average number of samples per class and use that number\n",
    "\n",
    "# training data resample\n",
    "num_samples_train = int(np.unique(train_y, return_counts=True)[1].mean())\n",
    "resampled_train_X = []\n",
    "resampled_train_y = []\n",
    "for i in range(1, 7):\n",
    "    samples_i = np.hstack([train_X[train_y == i], train_y[train_y == i].reshape(-1, 1)])\n",
    "    samples_i = resample(samples_i, replace=True, n_samples=num_samples_train)\n",
    "    resampled_train_X.append(samples_i[:, :-1])\n",
    "    resampled_train_y.append(samples_i[:, -1].reshape(-1, 1))\n",
    "    \n",
    "train_X = np.vstack(resampled_train_X)\n",
    "train_y = np.vstack(resampled_train_y)\n",
    "\n",
    "# testing data resample\n",
    "num_samples_test = int(np.unique(test_y, return_counts=True)[1].mean())\n",
    "resampled_test_X = []\n",
    "resampled_test_y = []\n",
    "for i in range(1, 7):\n",
    "    samples_i = np.hstack([test_X[test_y == i], test_y[test_y == i].reshape(-1, 1)])\n",
    "    samples_i = resample(samples_i, replace=True, n_samples=num_samples_test)\n",
    "    resampled_test_X.append(samples_i[:, :-1])\n",
    "    resampled_test_y.append(samples_i[:, -1].reshape(-1, 1))\n",
    "    \n",
    "test_X = np.vstack(resampled_test_X)\n",
    "test_y = np.vstack(resampled_test_y)\n",
    "\n",
    "# scale data (to be applied when initializing dataset)\n",
    "scaler = StandardScaler()\n",
    "train_X = scaler.fit_transform(train_X)\n",
    "test_X = scaler.transform(test_X)\n",
    "\n",
    "# apply PCA (use 5 components like in Aim 1)\n",
    "n = 5\n",
    "hr_pca = PCA(n_components=n)\n",
    "resp_pca = PCA(n_components=n)\n",
    "sao2_pca = PCA(n_components=n)\n",
    "gcs_pca = PCA(n_components=n)\n",
    "\n",
    "# split train into components\n",
    "train_hr = train_X[:, :memory_window]\n",
    "train_resp = train_X[:, memory_window:2 * memory_window]\n",
    "train_sao2 = train_X[:, 2 * memory_window:3 * memory_window]\n",
    "train_gcs = train_X[:, 3 * memory_window:4 * memory_window]\n",
    "\n",
    "# split test into components\n",
    "test_hr = test_X[:, :memory_window]\n",
    "test_resp = test_X[:, memory_window:2 * memory_window]\n",
    "test_sao2 = test_X[:, 2 * memory_window:3 * memory_window]\n",
    "test_gcs = test_X[:, 3 * memory_window:4 * memory_window]\n",
    "\n",
    "# fit/transform train\n",
    "train_hr = hr_pca.fit_transform(train_hr)\n",
    "train_resp = resp_pca.fit_transform(train_resp)\n",
    "train_sao2 = sao2_pca.fit_transform(train_sao2)\n",
    "train_gcs = gcs_pca.fit_transform(train_gcs)\n",
    "train_X_pca = np.hstack([train_hr, train_resp, train_sao2, train_gcs])\n",
    "\n",
    "# transform test\n",
    "test_hr = hr_pca.transform(test_hr)\n",
    "test_resp = resp_pca.transform(test_resp)\n",
    "test_sao2 = sao2_pca.transform(test_sao2)\n",
    "test_gcs = gcs_pca.transform(test_gcs)\n",
    "test_X_pca = np.hstack([test_hr, test_resp, test_sao2, test_gcs])"
   ]
  },
  {
   "cell_type": "markdown",
   "metadata": {},
   "source": [
    "## Model Training/Evaluation"
   ]
  },
  {
   "cell_type": "code",
   "execution_count": 232,
   "metadata": {},
   "outputs": [
    {
     "name": "stderr",
     "output_type": "stream",
     "text": [
      "/home/adit/.virtualenvs/pcm/lib/python3.6/site-packages/sklearn/utils/validation.py:724: DataConversionWarning: A column-vector y was passed when a 1d array was expected. Please change the shape of y to (n_samples, ), for example using ravel().\n",
      "  y = column_or_1d(y, warn=True)\n"
     ]
    },
    {
     "name": "stdout",
     "output_type": "stream",
     "text": [
      "Training Accuracy: 0.6413878562577447\n",
      "Testing Accuracy: 0.6065857377433732\n"
     ]
    },
    {
     "data": {
      "text/plain": [
       "Text(33.0, 0.5, 'Actual')"
      ]
     },
     "execution_count": 232,
     "metadata": {},
     "output_type": "execute_result"
    },
    {
     "data": {
      "image/png": "[encoded data removed]",
      "text/plain": [
       "<Figure size 432x288 with 2 Axes>"
      ]
     },
     "metadata": {
      "needs_background": "light"
     },
     "output_type": "display_data"
    },
    {
     "data": {
      "image/png": "[encoded data removed]",
      "text/plain": [
       "<Figure size 432x288 with 2 Axes>"
      ]
     },
     "metadata": {
      "needs_background": "light"
     },
     "output_type": "display_data"
    }
   ],
   "source": [
    "# check if we want PCA\n",
    "use_pca = True\n",
    "if use_pca:\n",
    "    train_X = train_X_pca\n",
    "    test_X = test_X_pca\n",
    "\n",
    "# create model\n",
    "clf = SGDClassifier(loss='log', penalty='elasticnet')\n",
    "\n",
    "# fit model\n",
    "clf.fit(train_X, train_y)\n",
    "\n",
    "# get training score\n",
    "print(\"Training Accuracy:\", clf.score(train_X, train_y))\n",
    "\n",
    "# display training heatmap\n",
    "train_preds = clf.predict(train_X)\n",
    "train_conf_mat = confusion_matrix(train_y, train_preds)\n",
    "\n",
    "plt.figure()\n",
    "plt.title(\"Training Confusion Matrix\")\n",
    "heatmap(100 * train_conf_mat / np.sum(train_conf_mat, axis=1), xticklabels=np.arange(1, 7), yticklabels=np.arange(1, 7), vmin=0, vmax=100, cmap=\"YlGnBu\")\n",
    "plt.xlabel(\"Predicted\")\n",
    "plt.ylabel(\"Actual\")\n",
    "\n",
    "# get testing score\n",
    "print(\"Testing Accuracy:\", clf.score(test_X, test_y))\n",
    "\n",
    "# display testing heatmap\n",
    "test_preds = clf.predict(test_X)\n",
    "test_conf_mat = confusion_matrix(test_y, test_preds)\n",
    "\n",
    "plt.figure()\n",
    "plt.title(\"Testing Confusion Matrix\")\n",
    "heatmap(100 * test_conf_mat / np.sum(test_conf_mat, axis=1), xticklabels=np.arange(1, 7), yticklabels=np.arange(1, 7), vmin=0, vmax=100, cmap=\"YlGnBu\")\n",
    "plt.xlabel(\"Predicted\")\n",
    "plt.ylabel(\"Actual\")"
   ]
  },
  {
   "cell_type": "code",
   "execution_count": 228,
   "metadata": {},
   "outputs": [
    {
     "name": "stdout",
     "output_type": "stream",
     "text": [
      "Training Accuracy: 78.24691582828788\n",
      "Testing Accuracy: 76.64057030106295\n"
     ]
    },
    {
     "data": {
      "text/plain": [
       "Text(33.0, 0.5, 'Actual')"
      ]
     },
     "execution_count": 228,
     "metadata": {},
     "output_type": "execute_result"
    },
    {
     "data": {
      "image/png": "[encoded data removed]",
      "text/plain": [
       "<Figure size 432x288 with 2 Axes>"
      ]
     },
     "metadata": {
      "needs_background": "light"
     },
     "output_type": "display_data"
    },
    {
     "data": {
      "image/png": "[encoded data removed]",
      "text/plain": [
       "<Figure size 432x288 with 2 Axes>"
      ]
     },
     "metadata": {
      "needs_background": "light"
     },
     "output_type": "display_data"
    }
   ],
   "source": [
    "# now get the naive classifier's heatmap (predict mode gcs as gcs (no change basically))\n",
    "\n",
    "# training heatmap\n",
    "naive_pred_y_train = scipy.stats.mode(scaler.inverse_transform(train_X)[:, -12:], axis=1).mode.astype(int)\n",
    "print(\"Training Accuracy:\", 100 * np.mean(naive_pred_y_train == train_y))\n",
    "naive_conf_mat_train = confusion_matrix(train_y, naive_pred_y_train)\n",
    "\n",
    "plt.figure()\n",
    "plt.title(\"Naive Model Training Confusion Matrix\")\n",
    "heatmap(100 * naive_conf_mat_train / np.sum(naive_conf_mat_train, axis=1), xticklabels=np.arange(1, 7), yticklabels=np.arange(1, 7), vmin=0, vmax=100, cmap=\"YlGnBu\")\n",
    "plt.xlabel(\"Predicted\")\n",
    "plt.ylabel(\"Actual\")\n",
    "\n",
    "# testing heatmap\n",
    "naive_pred_y_test = scipy.stats.mode(scaler.inverse_transform(test_X)[:, -12:], axis=1).mode.astype(int)\n",
    "print(\"Testing Accuracy:\", 100 * np.mean(naive_pred_y_test == test_y))\n",
    "naive_conf_mat_test = confusion_matrix(test_y, naive_pred_y_test)\n",
    "\n",
    "plt.figure()\n",
    "plt.title(\"Naive Model testing Confusion Matrix\")\n",
    "heatmap(100 * naive_conf_mat_test / np.sum(naive_conf_mat_test, axis=1), xticklabels=np.arange(1, 7), yticklabels=np.arange(1, 7), vmin=0, vmax=100, cmap=\"YlGnBu\")\n",
    "plt.xlabel(\"Predicted\")\n",
    "plt.ylabel(\"Actual\")"
   ]
  },
  {
   "cell_type": "code",
   "execution_count": null,
   "metadata": {},
   "outputs": [],
   "source": []
  }
 ],
 "metadata": {
  "kernelspec": {
   "display_name": "Python 3",
   "language": "python",
   "name": "python3"
  },
  "language_info": {
   "codemirror_mode": {
    "name": "ipython",
    "version": 3
   },
   "file_extension": ".py",
   "mimetype": "text/x-python",
   "name": "python",
   "nbconvert_exporter": "python",
   "pygments_lexer": "ipython3",
   "version": "3.6.8"
  }
 },
 "nbformat": 4,
 "nbformat_minor": 2
}
