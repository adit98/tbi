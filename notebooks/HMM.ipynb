{
 "cells": [
  {
   "cell_type": "code",
   "execution_count": 1,
   "metadata": {},
   "outputs": [],
   "source": [
    "from hmmlearn.hmm import *\n",
    "import pandas as pd\n",
    "import numpy as np\n",
    "from matplotlib.ticker import PercentFormatter\n",
    "import matplotlib.pyplot as plt\n",
    "from sklearn.preprocessing import StandardScaler\n",
    "from sklearn.model_selection import train_test_split\n",
    "%matplotlib inline"
   ]
  },
  {
   "cell_type": "code",
   "execution_count": 2,
   "metadata": {},
   "outputs": [
    {
     "data": {
      "text/html": [
       "<div>\n",
       "<style scoped>\n",
       "    .dataframe tbody tr th:only-of-type {\n",
       "        vertical-align: middle;\n",
       "    }\n",
       "\n",
       "    .dataframe tbody tr th {\n",
       "        vertical-align: top;\n",
       "    }\n",
       "\n",
       "    .dataframe thead th {\n",
       "        text-align: right;\n",
       "    }\n",
       "</style>\n",
       "<table border=\"1\" class=\"dataframe\">\n",
       "  <thead>\n",
       "    <tr style=\"text-align: right;\">\n",
       "      <th></th>\n",
       "      <th>patientunitstayid</th>\n",
       "      <th>length_of_stay_hrs</th>\n",
       "    </tr>\n",
       "  </thead>\n",
       "  <tbody>\n",
       "    <tr>\n",
       "      <th>0</th>\n",
       "      <td>143274</td>\n",
       "      <td>47.516667</td>\n",
       "    </tr>\n",
       "    <tr>\n",
       "      <th>571</th>\n",
       "      <td>144116</td>\n",
       "      <td>69.166667</td>\n",
       "    </tr>\n",
       "    <tr>\n",
       "      <th>1402</th>\n",
       "      <td>145997</td>\n",
       "      <td>25.916667</td>\n",
       "    </tr>\n",
       "    <tr>\n",
       "      <th>1714</th>\n",
       "      <td>146455</td>\n",
       "      <td>21.583333</td>\n",
       "    </tr>\n",
       "    <tr>\n",
       "      <th>1974</th>\n",
       "      <td>147899</td>\n",
       "      <td>126.333333</td>\n",
       "    </tr>\n",
       "    <tr>\n",
       "      <th>...</th>\n",
       "      <td>...</td>\n",
       "      <td>...</td>\n",
       "    </tr>\n",
       "    <tr>\n",
       "      <th>3499999</th>\n",
       "      <td>3335182</td>\n",
       "      <td>42.200000</td>\n",
       "    </tr>\n",
       "    <tr>\n",
       "      <th>3500307</th>\n",
       "      <td>3335520</td>\n",
       "      <td>60.966667</td>\n",
       "    </tr>\n",
       "    <tr>\n",
       "      <th>3500461</th>\n",
       "      <td>3339866</td>\n",
       "      <td>41.633333</td>\n",
       "    </tr>\n",
       "    <tr>\n",
       "      <th>3500892</th>\n",
       "      <td>3344456</td>\n",
       "      <td>282.716667</td>\n",
       "    </tr>\n",
       "    <tr>\n",
       "      <th>3501777</th>\n",
       "      <td>3346766</td>\n",
       "      <td>23.216667</td>\n",
       "    </tr>\n",
       "  </tbody>\n",
       "</table>\n",
       "<p>3023 rows × 2 columns</p>\n",
       "</div>"
      ],
      "text/plain": [
       "         patientunitstayid  length_of_stay_hrs\n",
       "0                   143274           47.516667\n",
       "571                 144116           69.166667\n",
       "1402                145997           25.916667\n",
       "1714                146455           21.583333\n",
       "1974                147899          126.333333\n",
       "...                    ...                 ...\n",
       "3499999            3335182           42.200000\n",
       "3500307            3335520           60.966667\n",
       "3500461            3339866           41.633333\n",
       "3500892            3344456          282.716667\n",
       "3501777            3346766           23.216667\n",
       "\n",
       "[3023 rows x 2 columns]"
      ]
     },
     "metadata": {},
     "output_type": "display_data"
    }
   ],
   "source": [
    "hr_all = pd.read_csv(\"../data/alpaca_hr.csv\")\n",
    "resp_all = pd.read_csv(\"../data/alpaca_resp.csv\")\n",
    "sao2_all = pd.read_csv(\"../data/alpaca_sao2.csv\")\n",
    "gcs_all = pd.read_csv(\"../data/patient_motor.csv\")\n",
    "\n",
    "hr_all['offset'] /= 60\n",
    "resp_all['offset'] /= 60\n",
    "sao2_all['offset'] /= 60\n",
    "gcs_all['observationoffset'] /= 60\n",
    "\n",
    "# drop patients with >1 month stay\n",
    "patients = hr_all.copy()\n",
    "max_stays = patients.groupby('patientunitstayid').apply(lambda x: x['offset'].max()).values\n",
    "patients = patients.drop(columns=['offset', 'value']).drop_duplicates()\n",
    "patients['length_of_stay_hrs'] = max_stays\n",
    "patients = patients[patients['length_of_stay_hrs'] < 720]\n",
    "display(patients)"
   ]
  },
  {
   "cell_type": "code",
   "execution_count": 3,
   "metadata": {},
   "outputs": [
    {
     "data": {
      "image/png": "[encoded data removed]",
      "text/plain": [
       "<Figure size 432x288 with 1 Axes>"
      ]
     },
     "metadata": {
      "needs_background": "light"
     },
     "output_type": "display_data"
    }
   ],
   "source": [
    "# histogram of patient stay length\n",
    "plt.hist(patients['length_of_stay_hrs'] / 24, weights=np.ones(len(patients)) / len(patients), bins=10)\n",
    "\n",
    "plt.gca().yaxis.set_major_formatter(PercentFormatter(1))\n",
    "plt.title(\"ICU Patient Stay Histogram\")\n",
    "plt.xlabel(\"Days\")\n",
    "plt.ylabel(\"% of Patient Population\")\n",
    "plt.show()"
   ]
  },
  {
   "cell_type": "code",
   "execution_count": 4,
   "metadata": {},
   "outputs": [],
   "source": [
    "# 1 hr bins (consider 2)\n",
    "binning_interval = 2"
   ]
  },
  {
   "cell_type": "code",
   "execution_count": 5,
   "metadata": {},
   "outputs": [
    {
     "data": {
      "text/html": [
       "<div>\n",
       "<style scoped>\n",
       "    .dataframe tbody tr th:only-of-type {\n",
       "        vertical-align: middle;\n",
       "    }\n",
       "\n",
       "    .dataframe tbody tr th {\n",
       "        vertical-align: top;\n",
       "    }\n",
       "\n",
       "    .dataframe thead th {\n",
       "        text-align: right;\n",
       "    }\n",
       "</style>\n",
       "<table border=\"1\" class=\"dataframe\">\n",
       "  <thead>\n",
       "    <tr style=\"text-align: right;\">\n",
       "      <th></th>\n",
       "      <th>patientunitstayid</th>\n",
       "      <th>offset_bin</th>\n",
       "      <th>hr</th>\n",
       "      <th>resp</th>\n",
       "      <th>sao2</th>\n",
       "      <th>gcs</th>\n",
       "    </tr>\n",
       "  </thead>\n",
       "  <tbody>\n",
       "    <tr>\n",
       "      <th>10664</th>\n",
       "      <td>172448</td>\n",
       "      <td>0.0</td>\n",
       "      <td>91.391304</td>\n",
       "      <td>14.565217</td>\n",
       "      <td>96.913043</td>\n",
       "      <td>1.0</td>\n",
       "    </tr>\n",
       "    <tr>\n",
       "      <th>10665</th>\n",
       "      <td>172448</td>\n",
       "      <td>1.0</td>\n",
       "      <td>92.458333</td>\n",
       "      <td>16.666667</td>\n",
       "      <td>96.000000</td>\n",
       "      <td>1.0</td>\n",
       "    </tr>\n",
       "    <tr>\n",
       "      <th>39904</th>\n",
       "      <td>242714</td>\n",
       "      <td>0.0</td>\n",
       "      <td>103.956522</td>\n",
       "      <td>35.586806</td>\n",
       "      <td>94.217391</td>\n",
       "      <td>6.0</td>\n",
       "    </tr>\n",
       "    <tr>\n",
       "      <th>39905</th>\n",
       "      <td>242714</td>\n",
       "      <td>1.0</td>\n",
       "      <td>101.083333</td>\n",
       "      <td>35.586806</td>\n",
       "      <td>94.333333</td>\n",
       "      <td>6.0</td>\n",
       "    </tr>\n",
       "    <tr>\n",
       "      <th>39906</th>\n",
       "      <td>242714</td>\n",
       "      <td>2.0</td>\n",
       "      <td>100.333333</td>\n",
       "      <td>35.586806</td>\n",
       "      <td>93.458333</td>\n",
       "      <td>6.0</td>\n",
       "    </tr>\n",
       "    <tr>\n",
       "      <th>...</th>\n",
       "      <td>...</td>\n",
       "      <td>...</td>\n",
       "      <td>...</td>\n",
       "      <td>...</td>\n",
       "      <td>...</td>\n",
       "      <td>...</td>\n",
       "    </tr>\n",
       "    <tr>\n",
       "      <th>1039572</th>\n",
       "      <td>3352819</td>\n",
       "      <td>4.0</td>\n",
       "      <td>77.541667</td>\n",
       "      <td>26.375000</td>\n",
       "      <td>98.833333</td>\n",
       "      <td>6.0</td>\n",
       "    </tr>\n",
       "    <tr>\n",
       "      <th>1039573</th>\n",
       "      <td>3352819</td>\n",
       "      <td>5.0</td>\n",
       "      <td>78.208333</td>\n",
       "      <td>27.166667</td>\n",
       "      <td>99.000000</td>\n",
       "      <td>6.0</td>\n",
       "    </tr>\n",
       "    <tr>\n",
       "      <th>1039574</th>\n",
       "      <td>3352819</td>\n",
       "      <td>6.0</td>\n",
       "      <td>81.208333</td>\n",
       "      <td>28.708333</td>\n",
       "      <td>98.708333</td>\n",
       "      <td>6.0</td>\n",
       "    </tr>\n",
       "    <tr>\n",
       "      <th>1039575</th>\n",
       "      <td>3352819</td>\n",
       "      <td>7.0</td>\n",
       "      <td>84.000000</td>\n",
       "      <td>29.250000</td>\n",
       "      <td>97.395833</td>\n",
       "      <td>6.0</td>\n",
       "    </tr>\n",
       "    <tr>\n",
       "      <th>1039576</th>\n",
       "      <td>3352819</td>\n",
       "      <td>8.0</td>\n",
       "      <td>79.333333</td>\n",
       "      <td>29.333333</td>\n",
       "      <td>96.904762</td>\n",
       "      <td>6.0</td>\n",
       "    </tr>\n",
       "  </tbody>\n",
       "</table>\n",
       "<p>106545 rows × 6 columns</p>\n",
       "</div>"
      ],
      "text/plain": [
       "         patientunitstayid  offset_bin          hr       resp       sao2  gcs\n",
       "10664               172448         0.0   91.391304  14.565217  96.913043  1.0\n",
       "10665               172448         1.0   92.458333  16.666667  96.000000  1.0\n",
       "39904               242714         0.0  103.956522  35.586806  94.217391  6.0\n",
       "39905               242714         1.0  101.083333  35.586806  94.333333  6.0\n",
       "39906               242714         2.0  100.333333  35.586806  93.458333  6.0\n",
       "...                    ...         ...         ...        ...        ...  ...\n",
       "1039572            3352819         4.0   77.541667  26.375000  98.833333  6.0\n",
       "1039573            3352819         5.0   78.208333  27.166667  99.000000  6.0\n",
       "1039574            3352819         6.0   81.208333  28.708333  98.708333  6.0\n",
       "1039575            3352819         7.0   84.000000  29.250000  97.395833  6.0\n",
       "1039576            3352819         8.0   79.333333  29.333333  96.904762  6.0\n",
       "\n",
       "[106545 rows x 6 columns]"
      ]
     },
     "metadata": {},
     "output_type": "display_data"
    }
   ],
   "source": [
    "hr_all['offset_bin'] = hr_all['offset'] // binning_interval\n",
    "resp_all['offset_bin'] = resp_all['offset'] // binning_interval\n",
    "sao2_all['offset_bin'] = sao2_all['offset'] // binning_interval\n",
    "gcs_all['offset_bin'] = gcs_all['observationoffset'] // binning_interval\n",
    "\n",
    "hr_binned = patients[['patientunitstayid']].merge(hr_all.drop(columns='offset').groupby(['patientunitstayid', 'offset_bin']).mean().reset_index(), how='left')\n",
    "resp_binned = patients[['patientunitstayid']].merge(resp_all.drop(columns='offset').groupby(['patientunitstayid', 'offset_bin']).mean().reset_index(), how='left')\n",
    "sao2_binned = patients[['patientunitstayid']].merge(sao2_all.drop(columns='offset').groupby(['patientunitstayid', 'offset_bin']).mean().reset_index(), how='left')\n",
    "gcs_binned = patients[['patientunitstayid']].merge(gcs_all.drop(columns='observationoffset').groupby(['patientunitstayid', 'offset_bin']).mean().reset_index(), how='left')\n",
    "\n",
    "max_bins = patients['length_of_stay_hrs'].max() // binning_interval + 1\n",
    "\n",
    "# reindex hr df\n",
    "def rein(df):\n",
    "    return df.set_index('offset_bin').reindex(np.arange(max_bins))\n",
    "\n",
    "hr_binned = hr_binned.groupby('patientunitstayid').apply(rein).drop(columns='patientunitstayid').reset_index()\n",
    "\n",
    "# add key\n",
    "hr_binned.rename(columns={'value' : 'hr'}, inplace=True)\n",
    "resp_binned.rename(columns={'value' : 'resp'}, inplace=True)\n",
    "sao2_binned.rename(columns={'value' : 'sao2'}, inplace=True)\n",
    "gcs_binned.rename(columns={'Value' : 'gcs'}, inplace=True)\n",
    "\n",
    "ts_binned = hr_binned.merge(resp_binned, how='left').merge(sao2_binned, how='left').merge(gcs_binned, how='left')\n",
    "ts_binned = ts_binned.groupby('patientunitstayid').apply(lambda x: x.fillna(method='bfill')).dropna()\n",
    "\n",
    "#print(ts_binned.groupby('patientunitstayid').apply(lambda x: x['offset_bin'].max()).mean())\n",
    "#print(ts_binned['offset_bin'].max())\n",
    "display(ts_binned)"
   ]
  },
  {
   "cell_type": "code",
   "execution_count": 6,
   "metadata": {},
   "outputs": [
    {
     "name": "stdout",
     "output_type": "stream",
     "text": [
      "(84977, 3)\n",
      "20\n"
     ]
    }
   ],
   "source": [
    "train_patients, test_patients = train_test_split(patients[['patientunitstayid']], test_size=0.2)\n",
    "ts_binned_train = train_patients.merge(ts_binned)\n",
    "ts_binned_test = test_patients.merge(ts_binned)\n",
    "\n",
    "# scale data\n",
    "scaler = StandardScaler()\n",
    "ts_binned_train[['hr', 'resp', 'sao2', 'gcs']] = scaler.fit_transform(ts_binned_train[['hr', 'resp', 'sao2', 'gcs']])\n",
    "ts_binned_test[['hr', 'resp', 'sao2', 'gcs']] = scaler.transform(ts_binned_test[['hr', 'resp', 'sao2', 'gcs']])\n",
    "\n",
    "# create lists to hold sequences\n",
    "train_seqs = [ts_binned_train[ts_binned_train['patientunitstayid'] == i].drop(columns=['offset_bin', 'patientunitstayid', 'gcs']).values for i in ts_binned_train['patientunitstayid'].unique()]\n",
    "train_lens = [x.shape[0] for x in train_seqs]\n",
    "train_seqs_np = np.vstack(train_seqs)\n",
    "train_gcs_seq = np.hstack([ts_binned_train['gcs'][ts_binned_train['patientunitstayid'] == i].values for i in ts_binned_train['patientunitstayid'].unique()])\n",
    "\n",
    "test_seqs = [ts_binned_test[ts_binned_test['patientunitstayid'] == i].drop(columns=['offset_bin', 'patientunitstayid', 'gcs']).values for i in ts_binned_test['patientunitstayid'].unique()]\n",
    "test_lens = [x.shape[0] for x in test_seqs]\n",
    "test_seqs_np = np.vstack(test_seqs)\n",
    "test_gcs_seq = np.hstack([ts_binned_test['gcs'][ts_binned_test['patientunitstayid'] == i].values for i in ts_binned_test['patientunitstayid'].unique()])\n",
    "\n",
    "print(train_seqs_np.shape)\n",
    "print(train_lens[0])"
   ]
  },
  {
   "cell_type": "code",
   "execution_count": 7,
   "metadata": {},
   "outputs": [
    {
     "data": {
      "text/plain": [
       "GaussianHMM(algorithm='viterbi', covariance_type='diag', covars_prior=0.01,\n",
       "            covars_weight=1, init_params='stmc', means_prior=0, means_weight=0,\n",
       "            min_covar=0.001, n_components=3, n_iter=10, params='stmc',\n",
       "            random_state=None, startprob_prior=1.0, tol=0.01,\n",
       "            transmat_prior=1.0, verbose=False)"
      ]
     },
     "execution_count": 7,
     "metadata": {},
     "output_type": "execute_result"
    }
   ],
   "source": [
    "clf = GaussianHMM(n_components=3)\n",
    "clf.fit(train_seqs_np, lengths=train_lens)"
   ]
  },
  {
   "cell_type": "code",
   "execution_count": 8,
   "metadata": {},
   "outputs": [
    {
     "name": "stdout",
     "output_type": "stream",
     "text": [
      "[0.25871305 0.47953722 0.26174973]\n"
     ]
    }
   ],
   "source": [
    "print(clf.startprob_)"
   ]
  },
  {
   "cell_type": "code",
   "execution_count": 9,
   "metadata": {},
   "outputs": [
    {
     "name": "stdout",
     "output_type": "stream",
     "text": [
      "Train MAPE (hr): 11.63%   \tAD: 9.88 \tstd: 17.56\n",
      "Train MAPE (resp): 19.04% \tAD: 3.73 \tstd: 5.16\n",
      "Train MAPE (sao2): 1.49% \tAD: 1.45 \tstd: 2.56\n",
      "\n",
      "Test MAPE (hr): 11.59%   \tAD: 9.79 \tstd: 16.86\n",
      "Test MAPE (resp): 19.53% \tAD: 3.95 \tstd: 5.60\n",
      "Test MAPE (sao2): 1.63% \tAD: 1.58 \tstd: 2.98\n"
     ]
    }
   ],
   "source": [
    "predicted_seq_train = clf.predict(train_seqs_np, lengths=train_lens)\n",
    "transformed_means_train = scaler.inverse_transform(clf.means_[predicted_seq_train])\n",
    "transformed_seq_train = scaler.inverse_transform(train_seqs_np)\n",
    "\n",
    "#print(clf.means_[0, :, 0].shape)\n",
    "#print(clf.weights_)\n",
    "#print(transformed_means_train.shape)\n",
    "#print(transformed_seq_train.shape)\n",
    "\n",
    "train_mapes = 100 * np.mean(np.abs(transformed_seq_train - transformed_means_train) / transformed_seq_train, axis=0)\n",
    "\n",
    "print(\"Train MAPE (hr): %.2f\" % train_mapes[0] + \"%\", \"  \\tAD: %.2f\" % (transformed_seq_train[:, 0].mean() * train_mapes[0] / 100), \"\\tstd: %.2f\" % transformed_seq_train[:, 0].std())\n",
    "print(\"Train MAPE (resp): %.2f\" % train_mapes[1] + \"%\", \"\\tAD: %.2f\" % (transformed_seq_train[:, 1].mean() * train_mapes[1] / 100), \"\\tstd: %.2f\" % transformed_seq_train[:, 1].std())\n",
    "print(\"Train MAPE (sao2): %.2f\" % train_mapes[2] + \"%\", \"\\tAD: %.2f\" % (transformed_seq_train[:, 2].mean() * train_mapes[2] / 100), \"\\tstd: %.2f\" % transformed_seq_train[:, 2].std())\n",
    "\n",
    "\n",
    "predicted_seq_test = clf.predict(test_seqs_np, lengths=test_lens)\n",
    "transformed_means_test = scaler.inverse_transform(clf.means_[predicted_seq_test])\n",
    "transformed_seq_test = scaler.inverse_transform(test_seqs_np)\n",
    "\n",
    "test_mapes = 100 * np.mean(np.abs(transformed_seq_test - transformed_means_test) / transformed_seq_test, axis=0)\n",
    "\n",
    "print(\"\\nTest MAPE (hr): %.2f\" % test_mapes[0] + \"%\", \"  \\tAD: %.2f\" % (transformed_seq_test[:, 0].mean() * test_mapes[0] / 100), \"\\tstd: %.2f\" % transformed_seq_test[:, 0].std())\n",
    "print(\"Test MAPE (resp): %.2f\" % test_mapes[1] + \"%\", \"\\tAD: %.2f\" % (transformed_seq_test[:, 1].mean() * test_mapes[1] / 100), \"\\tstd: %.2f\" % transformed_seq_test[:, 1].std())\n",
    "print(\"Test MAPE (sao2): %.2f\" % test_mapes[2] + \"%\", \"\\tAD: %.2f\" % (transformed_seq_test[:, 2].mean() * test_mapes[2] / 100), \"\\tstd: %.2f\" % transformed_seq_test[:, 2].std())"
   ]
  },
  {
   "cell_type": "code",
   "execution_count": 16,
   "metadata": {},
   "outputs": [
    {
     "name": "stdout",
     "output_type": "stream",
     "text": [
      "[1 1 1 ... 2 2 2]\n",
      "[6. 6. 6. ... 6. 6. 6.]\n"
     ]
    },
    {
     "data": {
      "text/plain": [
       "(array([7.470e+02, 2.000e+00, 2.760e+02, 1.900e+01, 3.960e+02, 7.000e+00,\n",
       "        8.770e+02, 2.600e+01, 1.364e+03, 3.468e+03]),\n",
       " array([1. , 1.5, 2. , 2.5, 3. , 3.5, 4. , 4.5, 5. , 5.5, 6. ]),\n",
       " <a list of 10 Patch objects>)"
      ]
     },
     "execution_count": 16,
     "metadata": {},
     "output_type": "execute_result"
    },
    {
     "data": {
      "image/png": "[encoded data removed]",
      "text/plain": [
       "<Figure size 432x288 with 1 Axes>"
      ]
     },
     "metadata": {
      "needs_background": "light"
     },
     "output_type": "display_data"
    },
    {
     "data": {
      "image/png": "[encoded data removed]",
      "text/plain": [
       "<Figure size 432x288 with 1 Axes>"
      ]
     },
     "metadata": {
      "needs_background": "light"
     },
     "output_type": "display_data"
    },
    {
     "data": {
      "image/png": "[encoded data removed]",
      "text/plain": [
       "<Figure size 432x288 with 1 Axes>"
      ]
     },
     "metadata": {
      "needs_background": "light"
     },
     "output_type": "display_data"
    }
   ],
   "source": [
    "# now, evaluate KL-divergence of clusters obtained via HMM\n",
    "\n",
    "# first get gcs distribution for each cluster\n",
    "print(predicted_seq_test)\n",
    "print(test_gcs_seq)\n",
    "\n",
    "distributions = []\n",
    "\n",
    "for i in range(clf.n_components):\n",
    "    dist_i = test_gcs_seq[predicted_seq_test == i]\n",
    "    distributions.append(dist_i)\n",
    "\n",
    "plt.figure()\n",
    "plt.hist(distributions[0])\n",
    "\n",
    "plt.figure()\n",
    "plt.hist(distributions[1])\n",
    "\n",
    "plt.figure()\n",
    "plt.hist(distributions[2])"
   ]
  },
  {
   "cell_type": "code",
   "execution_count": null,
   "metadata": {},
   "outputs": [],
   "source": [
    "# do the prediction here\n"
   ]
  }
 ],
 "metadata": {
  "kernelspec": {
   "display_name": "Python 3",
   "language": "python",
   "name": "python3"
  },
  "language_info": {
   "codemirror_mode": {
    "name": "ipython",
    "version": 3
   },
   "file_extension": ".py",
   "mimetype": "text/x-python",
   "name": "python",
   "nbconvert_exporter": "python",
   "pygments_lexer": "ipython3",
   "version": "3.6.8"
  }
 },
 "nbformat": 4,
 "nbformat_minor": 2
}
