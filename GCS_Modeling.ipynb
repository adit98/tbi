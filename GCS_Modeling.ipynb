{
 "cells": [
  {
   "cell_type": "markdown",
   "metadata": {},
   "source": [
    "## Imports and Data Loading"
   ]
  },
  {
   "cell_type": "code",
   "execution_count": 24,
   "metadata": {},
   "outputs": [],
   "source": [
    "import numpy as np\n",
    "import pandas as pd\n",
    "import matplotlib.pyplot as plt\n",
    "from matplotlib.ticker import PercentFormatter\n",
    "from sklearn.linear_model import LogisticRegression\n",
    "from sklearn.model_selection import train_test_split\n",
    "from sklearn.metrics import confusion_matrix, roc_curve, roc_auc_score\n",
    "from sklearn.decomposition import PCA, KernelPCA\n",
    "from sklearn.utils import resample\n",
    "import scipy\n",
    "from numpy.fft import fft\n",
    "import seaborn as sns"
   ]
  },
  {
   "cell_type": "code",
   "execution_count": 2,
   "metadata": {},
   "outputs": [
    {
     "data": {
      "text/html": [
       "<div>\n",
       "<style scoped>\n",
       "    .dataframe tbody tr th:only-of-type {\n",
       "        vertical-align: middle;\n",
       "    }\n",
       "\n",
       "    .dataframe tbody tr th {\n",
       "        vertical-align: top;\n",
       "    }\n",
       "\n",
       "    .dataframe thead th {\n",
       "        text-align: right;\n",
       "    }\n",
       "</style>\n",
       "<table border=\"1\" class=\"dataframe\">\n",
       "  <thead>\n",
       "    <tr style=\"text-align: right;\">\n",
       "      <th></th>\n",
       "      <th>patientunitstayid</th>\n",
       "      <th>observationoffset</th>\n",
       "      <th>Key</th>\n",
       "      <th>Value</th>\n",
       "      <th>origin</th>\n",
       "    </tr>\n",
       "  </thead>\n",
       "  <tbody>\n",
       "    <tr>\n",
       "      <th>0</th>\n",
       "      <td>172448</td>\n",
       "      <td>2.500000</td>\n",
       "      <td>Motor</td>\n",
       "      <td>1.0</td>\n",
       "      <td>nurse_charting</td>\n",
       "    </tr>\n",
       "    <tr>\n",
       "      <th>31</th>\n",
       "      <td>242714</td>\n",
       "      <td>46.850000</td>\n",
       "      <td>Motor</td>\n",
       "      <td>6.0</td>\n",
       "      <td>nurse_charting</td>\n",
       "    </tr>\n",
       "    <tr>\n",
       "      <th>40</th>\n",
       "      <td>242825</td>\n",
       "      <td>12.733333</td>\n",
       "      <td>Motor</td>\n",
       "      <td>6.0</td>\n",
       "      <td>nurse_charting</td>\n",
       "    </tr>\n",
       "    <tr>\n",
       "      <th>45</th>\n",
       "      <td>243176</td>\n",
       "      <td>54.566667</td>\n",
       "      <td>Motor</td>\n",
       "      <td>6.0</td>\n",
       "      <td>nurse_charting</td>\n",
       "    </tr>\n",
       "    <tr>\n",
       "      <th>86</th>\n",
       "      <td>243493</td>\n",
       "      <td>59.033333</td>\n",
       "      <td>Motor</td>\n",
       "      <td>6.0</td>\n",
       "      <td>nurse_charting</td>\n",
       "    </tr>\n",
       "    <tr>\n",
       "      <th>...</th>\n",
       "      <td>...</td>\n",
       "      <td>...</td>\n",
       "      <td>...</td>\n",
       "      <td>...</td>\n",
       "      <td>...</td>\n",
       "    </tr>\n",
       "    <tr>\n",
       "      <th>135846</th>\n",
       "      <td>3351268</td>\n",
       "      <td>187.383333</td>\n",
       "      <td>Motor</td>\n",
       "      <td>6.0</td>\n",
       "      <td>nurse_charting</td>\n",
       "    </tr>\n",
       "    <tr>\n",
       "      <th>135847</th>\n",
       "      <td>3351533</td>\n",
       "      <td>29.583333</td>\n",
       "      <td>Motor</td>\n",
       "      <td>6.0</td>\n",
       "      <td>nurse_charting</td>\n",
       "    </tr>\n",
       "    <tr>\n",
       "      <th>135858</th>\n",
       "      <td>3351909</td>\n",
       "      <td>156.950000</td>\n",
       "      <td>Motor</td>\n",
       "      <td>6.0</td>\n",
       "      <td>nurse_charting</td>\n",
       "    </tr>\n",
       "    <tr>\n",
       "      <th>135900</th>\n",
       "      <td>3352618</td>\n",
       "      <td>346.600000</td>\n",
       "      <td>Motor</td>\n",
       "      <td>6.0</td>\n",
       "      <td>nurse_charting</td>\n",
       "    </tr>\n",
       "    <tr>\n",
       "      <th>135907</th>\n",
       "      <td>3352819</td>\n",
       "      <td>89.616667</td>\n",
       "      <td>Motor</td>\n",
       "      <td>6.0</td>\n",
       "      <td>nurse_charting</td>\n",
       "    </tr>\n",
       "  </tbody>\n",
       "</table>\n",
       "<p>2608 rows × 5 columns</p>\n",
       "</div>"
      ],
      "text/plain": [
       "        patientunitstayid  observationoffset    Key  Value          origin\n",
       "0                  172448           2.500000  Motor    1.0  nurse_charting\n",
       "31                 242714          46.850000  Motor    6.0  nurse_charting\n",
       "40                 242825          12.733333  Motor    6.0  nurse_charting\n",
       "45                 243176          54.566667  Motor    6.0  nurse_charting\n",
       "86                 243493          59.033333  Motor    6.0  nurse_charting\n",
       "...                   ...                ...    ...    ...             ...\n",
       "135846            3351268         187.383333  Motor    6.0  nurse_charting\n",
       "135847            3351533          29.583333  Motor    6.0  nurse_charting\n",
       "135858            3351909         156.950000  Motor    6.0  nurse_charting\n",
       "135900            3352618         346.600000  Motor    6.0  nurse_charting\n",
       "135907            3352819          89.616667  Motor    6.0  nurse_charting\n",
       "\n",
       "[2608 rows x 5 columns]"
      ]
     },
     "metadata": {},
     "output_type": "display_data"
    }
   ],
   "source": [
    "# load data\n",
    "hr = pd.read_csv('data/alpaca_hr.csv')\n",
    "resp = pd.read_csv('data/alpaca_resp.csv')\n",
    "sao2 = pd.read_csv('data/alpaca_sao2.csv')\n",
    "\n",
    "hr['offset'] = hr['offset'] / 60\n",
    "resp['offset'] = resp['offset'] / 60\n",
    "sao2['offset'] = sao2['offset'] / 60\n",
    "\n",
    "gcs = pd.read_csv('data/patient_motor.csv')\n",
    "gcs = gcs[gcs['observationoffset'] > -1]\n",
    "gcs['observationoffset'] = gcs['observationoffset'] / 60\n",
    "final_gcs_id = gcs.groupby('patientunitstayid')['observationoffset'].transform(max) == gcs['observationoffset']\n",
    "\n",
    "final_gcs = gcs[final_gcs_id]\n",
    "display(final_gcs)\n",
    "\n",
    "#display(hr)\n",
    "#display(resp)\n",
    "#display(sao2)"
   ]
  },
  {
   "cell_type": "code",
   "execution_count": 3,
   "metadata": {
    "scrolled": true
   },
   "outputs": [
    {
     "data": {
      "text/html": [
       "<div>\n",
       "<style scoped>\n",
       "    .dataframe tbody tr th:only-of-type {\n",
       "        vertical-align: middle;\n",
       "    }\n",
       "\n",
       "    .dataframe tbody tr th {\n",
       "        vertical-align: top;\n",
       "    }\n",
       "\n",
       "    .dataframe thead th {\n",
       "        text-align: right;\n",
       "    }\n",
       "</style>\n",
       "<table border=\"1\" class=\"dataframe\">\n",
       "  <thead>\n",
       "    <tr style=\"text-align: right;\">\n",
       "      <th></th>\n",
       "      <th>patientunitstayid</th>\n",
       "      <th>offset</th>\n",
       "      <th>value</th>\n",
       "    </tr>\n",
       "  </thead>\n",
       "  <tbody>\n",
       "    <tr>\n",
       "      <th>12</th>\n",
       "      <td>143274</td>\n",
       "      <td>1.016667</td>\n",
       "      <td>95.0</td>\n",
       "    </tr>\n",
       "    <tr>\n",
       "      <th>13</th>\n",
       "      <td>143274</td>\n",
       "      <td>1.100000</td>\n",
       "      <td>97.0</td>\n",
       "    </tr>\n",
       "    <tr>\n",
       "      <th>14</th>\n",
       "      <td>143274</td>\n",
       "      <td>1.183333</td>\n",
       "      <td>97.0</td>\n",
       "    </tr>\n",
       "    <tr>\n",
       "      <th>15</th>\n",
       "      <td>143274</td>\n",
       "      <td>1.266667</td>\n",
       "      <td>98.0</td>\n",
       "    </tr>\n",
       "    <tr>\n",
       "      <th>16</th>\n",
       "      <td>143274</td>\n",
       "      <td>1.350000</td>\n",
       "      <td>98.0</td>\n",
       "    </tr>\n",
       "    <tr>\n",
       "      <th>...</th>\n",
       "      <td>...</td>\n",
       "      <td>...</td>\n",
       "      <td>...</td>\n",
       "    </tr>\n",
       "    <tr>\n",
       "      <th>566</th>\n",
       "      <td>143274</td>\n",
       "      <td>47.183333</td>\n",
       "      <td>103.0</td>\n",
       "    </tr>\n",
       "    <tr>\n",
       "      <th>567</th>\n",
       "      <td>143274</td>\n",
       "      <td>47.266667</td>\n",
       "      <td>112.0</td>\n",
       "    </tr>\n",
       "    <tr>\n",
       "      <th>568</th>\n",
       "      <td>143274</td>\n",
       "      <td>47.350000</td>\n",
       "      <td>109.0</td>\n",
       "    </tr>\n",
       "    <tr>\n",
       "      <th>569</th>\n",
       "      <td>143274</td>\n",
       "      <td>47.433333</td>\n",
       "      <td>142.0</td>\n",
       "    </tr>\n",
       "    <tr>\n",
       "      <th>570</th>\n",
       "      <td>143274</td>\n",
       "      <td>47.516667</td>\n",
       "      <td>123.0</td>\n",
       "    </tr>\n",
       "  </tbody>\n",
       "</table>\n",
       "<p>559 rows × 3 columns</p>\n",
       "</div>"
      ],
      "text/plain": [
       "     patientunitstayid     offset  value\n",
       "12              143274   1.016667   95.0\n",
       "13              143274   1.100000   97.0\n",
       "14              143274   1.183333   97.0\n",
       "15              143274   1.266667   98.0\n",
       "16              143274   1.350000   98.0\n",
       "..                 ...        ...    ...\n",
       "566             143274  47.183333  103.0\n",
       "567             143274  47.266667  112.0\n",
       "568             143274  47.350000  109.0\n",
       "569             143274  47.433333  142.0\n",
       "570             143274  47.516667  123.0\n",
       "\n",
       "[559 rows x 3 columns]"
      ]
     },
     "metadata": {},
     "output_type": "display_data"
    }
   ],
   "source": [
    "# NOTE: Need to do this SEPARATELY for train/val/test\n",
    "# deal with nan\n",
    "interplim = 1000\n",
    "hr = hr.groupby('patientunitstayid').apply(lambda group: group.interpolate(method='linear', limit = interplim))\n",
    "resp = resp.groupby('patientunitstayid').apply(lambda group: group.interpolate(method='linear', limit = interplim))\n",
    "sao2 = sao2.groupby('patientunitstayid').apply(lambda group: group.interpolate(method='linear', limit = interplim))\n",
    "\n",
    "#for now drop Nan rows (shouldn't be many)...\n",
    "hr = hr.dropna()\n",
    "resp = resp.dropna()\n",
    "sao2 = sao2.dropna()\n",
    "\n",
    "display(hr.loc[hr['patientunitstayid'] == 143274])"
   ]
  },
  {
   "cell_type": "markdown",
   "metadata": {},
   "source": [
    "## Set Parameters"
   ]
  },
  {
   "cell_type": "code",
   "execution_count": 4,
   "metadata": {},
   "outputs": [],
   "source": [
    "# prediction frequency refers to the frequency with which we want to predict GCS\n",
    "prediction_freq = 2\n",
    "\n",
    "# summarization interval refers to the spacing between edges of the bins of our histogram (for summarizing physiology)\n",
    "summarization_int = 0.25"
   ]
  },
  {
   "cell_type": "markdown",
   "metadata": {},
   "source": [
    "## Bin data"
   ]
  },
  {
   "cell_type": "code",
   "execution_count": 6,
   "metadata": {
    "scrolled": true
   },
   "outputs": [],
   "source": [
    "# split data into bins based on summarization_int\n",
    "bins=np.arange(1000, step=summarization_int)\n",
    "hr['offset_bin'] = pd.cut(hr['offset'], bins, labels=list(np.arange(bins.shape[0] - 1)))\n",
    "#display(hr[hr['patientunitstayid'] == 318676])\n",
    "hr_grouped = hr.groupby(['patientunitstayid', 'offset_bin']).mean().reset_index()\n",
    "#hr_grouped['patientunitstayid'] = hr_grouped['patientunitstayid'].astype(int)\n",
    "\n",
    "resp['offset_bin'] = pd.cut(resp['offset'], bins, labels=list(np.arange(bins.shape[0] - 1)))\n",
    "resp_grouped = resp.groupby(['patientunitstayid', 'offset_bin']).mean().reset_index()\n",
    "#resp_grouped['patientunitstayid'] = resp_grouped['patientunitstayid'].astype(int)\n",
    "\n",
    "sao2['offset_bin'] = pd.cut(sao2['offset'], bins, labels=list(np.arange(bins.shape[0] - 1)))\n",
    "sao2_grouped = sao2.groupby(['patientunitstayid', 'offset_bin']).mean().reset_index()\n",
    "#sao2_grouped['patientunitstayid'] = sao2_grouped['patientunitstayid'].astype(int)\n",
    "\n",
    "gcs['offset_bin'] = pd.cut(gcs['observationoffset'], bins, labels=list(np.arange(bins.shape[0] - 1)))\n",
    "gcs_grouped = gcs.groupby(['patientunitstayid', 'offset_bin']).mean().reset_index()\n",
    "#gcs_grouped['patientunitstayid'] = gcs_grouped['patientunitstayid'].astype(int)"
   ]
  },
  {
   "cell_type": "markdown",
   "metadata": {},
   "source": [
    "## Plot Samples"
   ]
  },
  {
   "cell_type": "code",
   "execution_count": 7,
   "metadata": {},
   "outputs": [
    {
     "name": "stderr",
     "output_type": "stream",
     "text": [
      "/home/adit/.virtualenvs/pcm/lib/python3.6/site-packages/numpy/core/fromnumeric.py:61: FutureWarning: Series.nonzero() is deprecated and will be removed in a future version.Use Series.to_numpy().nonzero() instead\n",
      "  return bound(*args, **kwds)\n"
     ]
    },
    {
     "data": {
      "text/plain": [
       "Text(0.5, 1.0, 'Motor GCS')"
      ]
     },
     "execution_count": 7,
     "metadata": {},
     "output_type": "execute_result"
    },
    {
     "data": {
      "image/png": "[encoded data removed]",
      "text/plain": [
       "<Figure size 1080x720 with 4 Axes>"
      ]
     },
     "metadata": {
      "needs_background": "light"
     },
     "output_type": "display_data"
    }
   ],
   "source": [
    "# get one patient's data\n",
    "ind_slice = np.argwhere(hr_grouped['patientunitstayid'] == 1020525).flatten()\n",
    "f, (ax1, ax2, ax3, ax4) = plt.subplots(4, 1, sharex=True, figsize=(15,10))\n",
    "f.suptitle(\"Patient 1020525\", size = 20)\n",
    "ax1.plot(np.arange(resp_grouped[resp_grouped.index.isin(ind_slice)]['value'].shape[0]),\n",
    "         resp_grouped[resp_grouped.index.isin(ind_slice)]['value'])\n",
    "ax1.set_title(\"Respiratory\")\n",
    "\n",
    "ax2.plot(np.arange(hr_grouped[hr_grouped.index.isin(ind_slice)]['value'].shape[0]),\n",
    "         hr_grouped[hr_grouped.index.isin(ind_slice)]['value'])\n",
    "ax2.set_title(\"HR\")\n",
    "\n",
    "ax3.plot(np.arange(sao2_grouped[sao2_grouped.index.isin(ind_slice)]['value'].shape[0]),\n",
    "         sao2_grouped[sao2_grouped.index.isin(ind_slice)]['value'])\n",
    "ax3.set_title(\"SaO2\")\n",
    "\n",
    "ax4.scatter(gcs_grouped[gcs_grouped.index.isin(ind_slice)]['offset_bin'], gcs_grouped[gcs_grouped.index.isin(ind_slice)]['Value'])\n",
    "ax4.set_title(\"Motor GCS\")"
   ]
  },
  {
   "cell_type": "markdown",
   "metadata": {},
   "source": [
    "## Modeling"
   ]
  },
  {
   "cell_type": "code",
   "execution_count": 8,
   "metadata": {},
   "outputs": [],
   "source": [
    "# SET PARAMETERS\n",
    "\n",
    "# number of pca components to extract\n",
    "num_components = 40\n",
    "\n",
    "# number of fourier features to extract\n",
    "num_fourier_components = 40\n",
    "\n",
    "# choose resampling technique\n",
    "resampling = 'under'"
   ]
  },
  {
   "cell_type": "code",
   "execution_count": 9,
   "metadata": {
    "scrolled": false
   },
   "outputs": [],
   "source": [
    "# interpolate signal\n",
    "hr_first24 = hr_grouped.copy()\n",
    "resp_first24 = resp_grouped.copy()\n",
    "sao2_first24 = sao2_grouped.copy()\n",
    "\n",
    "hr_first24['value'] = hr_grouped.groupby('patientunitstayid').apply(lambda x: x['value'].interpolate(method='linear')).reset_index()['value']\n",
    "resp_first24['value'] = resp_grouped.groupby('patientunitstayid').apply(lambda x: x['value'].interpolate(method='linear')).reset_index()['value']\n",
    "sao2_first24['value'] = sao2_grouped.groupby('patientunitstayid').apply(lambda x: x['value'].interpolate(method='linear')).reset_index()['value']"
   ]
  },
  {
   "cell_type": "code",
   "execution_count": 10,
   "metadata": {
    "scrolled": true
   },
   "outputs": [],
   "source": [
    "# get first 24 hrs\n",
    "hr_first24 = hr_first24.loc[hr_first24['offset_bin'] < 96].drop(columns=['offset', 'offset_bin'])\n",
    "resp_first24 = resp_first24.loc[resp_first24['offset_bin'] < 96].drop(columns=['offset', 'offset_bin'])\n",
    "sao2_first24 = sao2_first24.loc[sao2_first24['offset_bin'] < 96].drop(columns=['offset', 'offset_bin'])\n",
    "\n",
    "# fill remaining na fields (beginning of patient stay if any) with overall signal mean (maybe median itf?)\n",
    "hr_first24['value'] = hr_first24.groupby('patientunitstayid').transform(lambda x: x.fillna(x.mean()))\n",
    "resp_first24['value'] = resp_first24.groupby('patientunitstayid').transform(lambda x: x.fillna(x.mean()))\n",
    "sao2_first24['value'] = sao2_first24.groupby('patientunitstayid').transform(lambda x: x.fillna(x.mean()))\n",
    "\n",
    "#display(resp_first24)\n",
    "#display(sao2_first24)"
   ]
  },
  {
   "cell_type": "code",
   "execution_count": 11,
   "metadata": {},
   "outputs": [
    {
     "name": "stdout",
     "output_type": "stream",
     "text": [
      "(76,)\n"
     ]
    }
   ],
   "source": [
    "further_exclusion = hr_first24.loc[hr_first24.isna()['value']]['patientunitstayid'].unique()\n",
    "further_exclusion = np.hstack([further_exclusion, resp_first24.loc[resp_first24.isna()['value']]['patientunitstayid'].unique()])\n",
    "further_exclusion = np.hstack([further_exclusion, sao2_first24.loc[sao2_first24.isna()['value']]['patientunitstayid'].unique()])\n",
    "further_exclusion = np.unique(further_exclusion)\n",
    "print(further_exclusion.shape)"
   ]
  },
  {
   "cell_type": "code",
   "execution_count": 12,
   "metadata": {},
   "outputs": [],
   "source": [
    "# organize by patient\n",
    "\n",
    "# first grab all the patient ids\n",
    "\n",
    "# ISSUE: some patients are not represented, need to think of how to include them, perhaps -1?\n",
    "keys1, keys2, keys3, keys4 = hr['patientunitstayid'].unique(), resp['patientunitstayid'].unique(), sao2['patientunitstayid'].unique(), final_gcs['patientunitstayid'].unique()\n",
    "keys = []\n",
    "for k in keys1:\n",
    "    if (k in keys2) and (k in keys3) and (k in keys4) and (k not in further_exclusion):\n",
    "        keys.append(k)\n",
    "\n",
    "# now stack data based on the same patient order\n",
    "X_hr = np.hstack([hr_first24.loc[hr_first24['patientunitstayid'] == g]['value'].values[:,\n",
    "        None] for g in keys])\n",
    "\n",
    "X_resp = np.hstack([resp_first24.loc[resp_first24['patientunitstayid'] == g]['value'].values[:,\n",
    "        None] for g in keys])\n",
    "\n",
    "X_sao2 = np.hstack([sao2_first24.loc[sao2_first24['patientunitstayid'] == g]['value'].values[:,\n",
    "        None] for g in keys])"
   ]
  },
  {
   "cell_type": "code",
   "execution_count": 32,
   "metadata": {},
   "outputs": [
    {
     "name": "stderr",
     "output_type": "stream",
     "text": [
      "/home/adit/.virtualenvs/pcm/lib/python3.6/site-packages/ipykernel_launcher.py:24: ComplexWarning: Casting complex values to real discards the imaginary part\n",
      "/home/adit/.virtualenvs/pcm/lib/python3.6/site-packages/ipykernel_launcher.py:25: ComplexWarning: Casting complex values to real discards the imaginary part\n"
     ]
    }
   ],
   "source": [
    "# naive model (stack 96x3 features and train classifier)\n",
    "X_naive = np.vstack([X_hr, X_resp, X_sao2]).T\n",
    "target_gcs = np.vstack([final_gcs.loc[final_gcs['patientunitstayid'] == g]['Value'].values[:,\n",
    "        None] for g in keys])\n",
    "\n",
    "# split data\n",
    "trainX, testX, trainY, testY = train_test_split(X_naive, target_gcs, test_size=0.2)\n",
    "trainY, testY = trainY.flatten(), testY.flatten()\n",
    "\n",
    "# get class weights\n",
    "#class_weights = compute_class_weight('balanced', np.unique(target_gcs), target_gcs)\n",
    "\n",
    "# resample\n",
    "#if resampling == 'under':\n",
    "#    dataset = np.hstack([trainX, trainY])\n",
    "\n",
    "# PCA features\n",
    "raw_pca = PCA(n_components = num_components)\n",
    "raw_pca.fit(trainX)\n",
    "trainX_pca = raw_pca.transform(trainX)\n",
    "testX_pca = raw_pca.transform(testX)\n",
    "\n",
    "# fourier features (all)\n",
    "trainX_fourier = fft(trainX).astype(float)\n",
    "testX_fourier = fft(testX).astype(float)\n",
    "\n",
    "# fourier features (PCA)\n",
    "fourier_pca = PCA(n_components = num_fourier_components)\n",
    "fourier_pca.fit(trainX_fourier)\n",
    "trainX_fourier_pca = fourier_pca.transform(trainX_fourier)\n",
    "testX_fourier_pca = fourier_pca.transform(testX_fourier)"
   ]
  },
  {
   "cell_type": "code",
   "execution_count": 45,
   "metadata": {},
   "outputs": [
    {
     "name": "stdout",
     "output_type": "stream",
     "text": [
      "Train Score: 0.8338709677419355\n"
     ]
    },
    {
     "name": "stderr",
     "output_type": "stream",
     "text": [
      "/home/adit/.virtualenvs/pcm/lib/python3.6/site-packages/sklearn/linear_model/sag.py:337: ConvergenceWarning: The max_iter was reached which means the coef_ did not converge\n",
      "  \"the coef_ did not converge\", ConvergenceWarning)\n"
     ]
    }
   ],
   "source": [
    "# modify labels\n",
    "testY_mod = testY.copy()\n",
    "testY_mod[testY < 6] = 0\n",
    "testY_mod[testY == 6] = 1\n",
    "\n",
    "trainY_mod = trainY.copy()\n",
    "trainY_mod[trainY < 6] = 0\n",
    "trainY_mod[trainY == 6] = 1\n",
    "\n",
    "# train model\n",
    "clf = LogisticRegression(max_iter=2000, multi_class='multinomial', penalty='elasticnet', l1_ratio=0.5,\n",
    "                         solver='saga', C=0.8, class_weight=None)\n",
    "clf.fit(trainX, trainY_mod)\n",
    "print(\"Train Score:\", clf.score(trainX, trainY_mod))"
   ]
  },
  {
   "cell_type": "code",
   "execution_count": 48,
   "metadata": {},
   "outputs": [
    {
     "name": "stdout",
     "output_type": "stream",
     "text": [
      "Test Score: 0.7725321888412017\n",
      "AUC: 0.5647633256476332\n"
     ]
    },
    {
     "data": {
      "image/png": "[encoded data removed]",
      "text/plain": [
       "<Figure size 432x288 with 1 Axes>"
      ]
     },
     "metadata": {
      "needs_background": "light"
     },
     "output_type": "display_data"
    },
    {
     "data": {
      "image/png": "[encoded data removed]",
      "text/plain": [
       "<Figure size 432x288 with 1 Axes>"
      ]
     },
     "metadata": {
      "needs_background": "light"
     },
     "output_type": "display_data"
    },
    {
     "data": {
      "image/png": "[encoded data removed]",
      "text/plain": [
       "<Figure size 432x288 with 1 Axes>"
      ]
     },
     "metadata": {
      "needs_background": "light"
     },
     "output_type": "display_data"
    },
    {
     "name": "stderr",
     "output_type": "stream",
     "text": [
      "/home/adit/.virtualenvs/pcm/lib/python3.6/site-packages/ipykernel_launcher.py:37: RuntimeWarning: invalid value encountered in true_divide\n"
     ]
    },
    {
     "data": {
      "image/png": "[encoded data removed]",
      "text/plain": [
       "<Figure size 432x288 with 2 Axes>"
      ]
     },
     "metadata": {
      "needs_background": "light"
     },
     "output_type": "display_data"
    }
   ],
   "source": [
    "# test model\n",
    "predY = clf.predict(testX)\n",
    "print(\"Test Score:\", clf.score(testX, testY_mod))\n",
    "\n",
    "# get auc\n",
    "auc = roc_auc_score(testY_mod, predY)\n",
    "print(\"AUC:\", auc)\n",
    "\n",
    "# plot roc curve\n",
    "fpr, tpr, _ = roc_curve(testY_mod, predY)\n",
    "plt.figure()\n",
    "lw = 2\n",
    "plt.plot(fpr, tpr, color='darkorange',\n",
    "         lw=lw, label='ROC curve (area = %0.2f)' % auc)\n",
    "plt.plot([0, 1], [0, 1], color='navy', lw=lw, linestyle='--')\n",
    "plt.xlim([0.0, 1.0])\n",
    "plt.ylim([0.0, 1.05])\n",
    "plt.xlabel('False Positive Rate')\n",
    "plt.ylabel('True Positive Rate')\n",
    "plt.title('Receiver operating characteristic example')\n",
    "plt.legend(loc=\"lower right\")\n",
    "plt.show()\n",
    "\n",
    "# class balance\n",
    "plt.hist(testY_mod, bins=2, weights=np.ones(len(testY_mod)) / len(testY_mod))\n",
    "plt.gca().yaxis.set_major_formatter(PercentFormatter(1))\n",
    "plt.title(\"Ground Truth\")\n",
    "plt.show()\n",
    "\n",
    "plt.hist(predY, bins=2, weights=np.ones(len(predY)) / len(predY))\n",
    "plt.gca().yaxis.set_major_formatter(PercentFormatter(1))\n",
    "plt.title(\"Predicted\")\n",
    "plt.show()\n",
    "\n",
    "# heatmap\n",
    "confusion = confusion_matrix(testY, predY)\n",
    "confusion = confusion / np.sum(confusion, axis=1)[:, None]\n",
    "heatmap = sns.heatmap(confusion, linewidths=.5, cmap=\"YlGnBu\")"
   ]
  },
  {
   "cell_type": "code",
   "execution_count": null,
   "metadata": {},
   "outputs": [],
   "source": []
  },
  {
   "cell_type": "code",
   "execution_count": null,
   "metadata": {},
   "outputs": [],
   "source": []
  }
 ],
 "metadata": {
  "kernelspec": {
   "display_name": "Python 3",
   "language": "python",
   "name": "python3"
  },
  "language_info": {
   "codemirror_mode": {
    "name": "ipython",
    "version": 3
   },
   "file_extension": ".py",
   "mimetype": "text/x-python",
   "name": "python",
   "nbconvert_exporter": "python",
   "pygments_lexer": "ipython3",
   "version": "3.6.8"
  }
 },
 "nbformat": 4,
 "nbformat_minor": 2
}
